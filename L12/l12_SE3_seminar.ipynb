{
 "cells": [
  {
   "cell_type": "code",
   "execution_count": null,
   "metadata": {},
   "outputs": [],
   "source": [
    "import mrob\n",
    "import numpy as np\n",
    "import matplotlib.pyplot as plt\n",
    "from mpl_toolkits.mplot3d import Axes3D"
   ]
  },
  {
   "cell_type": "markdown",
   "metadata": {},
   "source": [
    "## Plot preparations: "
   ]
  },
  {
   "cell_type": "code",
   "execution_count": null,
   "metadata": {},
   "outputs": [],
   "source": [
    "def plotConfig():\n",
    "    \"configfures the 3d plot structure for representing tranformations\"\n",
    "    fig = plt.figure()\n",
    "    ax = fig.add_subplot(111, projection='3d')\n",
    "    return ax\n",
    "    \n",
    "def plotT(T, ax):\n",
    "    \"Plots a 3 axis frame in the origin given the mrob SE3 transformation, right-hand convention\"\n",
    "    # transform 3 axis to the coordinate system\n",
    "    x = np.zeros((4,3))\n",
    "    x[0,:] = T.transform(np.array([0,0,0], dtype='float64'))\n",
    "    x[1,:] = T.transform(np.array([1,0,0], dtype='float64'))\n",
    "    ax.plot(x[[0,1],0],x[[0,1],1],x[[0,1],2],'r') # X axis\n",
    "    x[2,:] = T.transform(np.array([0,1,0], dtype='float64'))\n",
    "    ax.plot(x[[0,2],0],x[[0,2],1],x[[0,2],2],'g') # Y axis\n",
    "    x[3,:] = T.transform(np.array([0,0,1], dtype='float64'))\n",
    "    ax.plot(x[[0,3],0],x[[0,3],1],x[[0,3],2],'b') # Z axis\n",
    "    plt.xlabel('x')\n",
    "    plt.ylabel('y')"
   ]
  },
  {
   "cell_type": "markdown",
   "metadata": {},
   "source": [
    "# Rotation of rigid body. SO(3)"
   ]
  },
  {
   "cell_type": "markdown",
   "metadata": {},
   "source": [
    "Use `mrob.geometry.SO3()` to construct body orientation SO3 object:"
   ]
  },
  {
   "cell_type": "markdown",
   "metadata": {},
   "source": [
    "## Create rotation vector and map: \n",
    "$$\\Large \\rm I\\!R^3 \\rightarrow \\rm SO(3)$$"
   ]
  },
  {
   "cell_type": "code",
   "execution_count": null,
   "metadata": {},
   "outputs": [],
   "source": [
    "with mrob.ostream_redirect(stdout=True, stderr=True):\n",
    "    R.print()"
   ]
  },
  {
   "cell_type": "markdown",
   "metadata": {},
   "source": [
    "## Logarithm\n",
    "$$\\Large SO(3)\\to \\mathbb{R}^3$$\n",
    "The second operation is the logarithm `.Ln()`, check that the mapping provides a vector"
   ]
  },
  {
   "cell_type": "code",
   "execution_count": null,
   "metadata": {},
   "outputs": [],
   "source": []
  },
  {
   "cell_type": "code",
   "execution_count": null,
   "metadata": {},
   "outputs": [],
   "source": []
  },
  {
   "cell_type": "markdown",
   "metadata": {},
   "source": [
    "# Rigid Body Pose. SE(3)"
   ]
  },
  {
   "cell_type": "markdown",
   "metadata": {},
   "source": [
    "## Create translation vector and build RBT matrix: \n",
    "$$\\Large \\begin{equation*}\n",
    "T = \n",
    "\\begin{bmatrix}\n",
    "R & t \\\\\n",
    "0 & 1\n",
    "\\end{bmatrix}\n",
    "\\end{equation*}$$"
   ]
  },
  {
   "cell_type": "markdown",
   "metadata": {},
   "source": [
    "Use `mrob.geometry.SE3` to construct rigid body pose SE3 object"
   ]
  },
  {
   "cell_type": "code",
   "execution_count": null,
   "metadata": {},
   "outputs": [],
   "source": [
    "# define SE3 object T here\n",
    "T = ... "
   ]
  },
  {
   "cell_type": "code",
   "execution_count": null,
   "metadata": {},
   "outputs": [],
   "source": [
    "# print pose matrix 4x4 here\n",
    "print(...)"
   ]
  },
  {
   "cell_type": "code",
   "execution_count": null,
   "metadata": {},
   "outputs": [],
   "source": [
    "# plotting resulting pose in 3D\n",
    "ax = plotConfig()\n",
    "plotT(T, ax)\n",
    "plt.title('RBT')\n",
    "plt.show()"
   ]
  },
  {
   "cell_type": "markdown",
   "metadata": {},
   "source": [
    "## RBT composition\n",
    "$T = T_1*T_2$"
   ]
  },
  {
   "cell_type": "markdown",
   "metadata": {},
   "source": [
    "Create second pose object and perform `.mul()` operator to get the composition of two poses and print out the matrix."
   ]
  },
  {
   "cell_type": "code",
   "execution_count": null,
   "metadata": {},
   "outputs": [],
   "source": []
  },
  {
   "cell_type": "code",
   "execution_count": null,
   "metadata": {},
   "outputs": [],
   "source": []
  },
  {
   "cell_type": "markdown",
   "metadata": {},
   "source": [
    "## Inverse Pose\n",
    "$(T)^{-1} = T^{-1}$ : $T^{-1}\\cdot T = I$. Use `.inv()` operator to get inverse pose and check that it is actually inverse."
   ]
  },
  {
   "cell_type": "code",
   "execution_count": null,
   "metadata": {},
   "outputs": [],
   "source": []
  }
 ],
 "metadata": {
  "kernelspec": {
   "display_name": "Python 3",
   "language": "python",
   "name": "python3"
  },
  "language_info": {
   "codemirror_mode": {
    "name": "ipython",
    "version": 3
   },
   "file_extension": ".py",
   "mimetype": "text/x-python",
   "name": "python",
   "nbconvert_exporter": "python",
   "pygments_lexer": "ipython3",
   "version": "3.6.10"
  }
 },
 "nbformat": 4,
 "nbformat_minor": 4
}
