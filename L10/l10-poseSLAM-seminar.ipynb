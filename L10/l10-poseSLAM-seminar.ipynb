{
 "cells": [
  {
   "cell_type": "code",
   "execution_count": 1,
   "metadata": {},
   "outputs": [
    {
     "name": "stdout",
     "output_type": "stream",
     "text": [
      "Collecting mrob\n",
      "  Downloading mrob-0.0.8-py3-none-macosx_10_9_x86_64.whl (1.1 MB)\n",
      "\u001b[K     |████████████████████████████████| 1.1 MB 1.5 MB/s eta 0:00:01\n",
      "\u001b[?25hInstalling collected packages: mrob\n",
      "Successfully installed mrob-0.0.8\n"
     ]
    }
   ],
   "source": [
    "!pip install mrob"
   ]
  },
  {
   "cell_type": "code",
   "execution_count": 2,
   "metadata": {},
   "outputs": [],
   "source": [
    "import mrob\n",
    "import numpy as np"
   ]
  },
  {
   "cell_type": "code",
   "execution_count": 3,
   "metadata": {},
   "outputs": [
    {
     "data": {
      "text/plain": [
       "'0.0.8'"
      ]
     },
     "execution_count": 3,
     "metadata": {},
     "output_type": "execute_result"
    }
   ],
   "source": [
    "mrob.__version__"
   ]
  },
  {
   "cell_type": "markdown",
   "metadata": {},
   "source": [
    "# Graph SLAM, using a library\n",
    "in this seminar, we will show some of the functionalities of using a library for solving graphSLAM. [MROB: Mobile Robotics library](https://github.com/MobileRoboticsSkoltech/mrob) is a library for general use of perception techniques: FGraphs, Rigid Body Transformation and Point Cloud alignment.\n",
    "\n",
    "Other interesting libraries to explore are [g2o (Kumerle'2011)](https://github.com/RainerKuemmerle/g2o) and [GTSAM (Dellaert'2011)](https://gtsam.org/)."
   ]
  },
  {
   "cell_type": "markdown",
   "metadata": {},
   "source": [
    "## 1 Creating a Graph\n",
    "We will start by creating a graph, and then add a node. You can get familiar by using help or from the examples in mrob (see github python_examples)"
   ]
  },
  {
   "cell_type": "code",
   "execution_count": 4,
   "metadata": {},
   "outputs": [],
   "source": [
    "graph = mrob.FGraph()"
   ]
  },
  {
   "cell_type": "code",
   "execution_count": 5,
   "metadata": {},
   "outputs": [
    {
     "name": "stdout",
     "output_type": "stream",
     "text": [
      "Status of graph: 0Nodes and 0Factors.\n"
     ]
    }
   ],
   "source": [
    "with mrob.ostream_redirect(stdout=True, stderr=True):\n",
    "      graph.print()"
   ]
  },
  {
   "cell_type": "markdown",
   "metadata": {},
   "source": [
    "## 2. Add the first Node $x_0$\n",
    "We will add the first node to the Fgraph. Create a random initial state ($\\sigma = 0.1 $) and add it to the graph. For that, use the function `add_node_pose_2d()`.\n",
    "\n",
    "Print your graph in simplified mode and in complete form."
   ]
  },
  {
   "cell_type": "code",
   "execution_count": 6,
   "metadata": {},
   "outputs": [
    {
     "name": "stdout",
     "output_type": "stream",
     "text": [
      "\u001b[0;31mDocstring:\u001b[0m\n",
      "add_node_pose_2d(self: mrob.mrob.FGraph, arg0: numpy.ndarray[numpy.float64[3, 1]]) -> int\n",
      "\n",
      " - arguments, initial estimate (np.zeros(3)\n",
      "output, node id, for later usage\n",
      "\u001b[0;31mType:\u001b[0m      method\n"
     ]
    }
   ],
   "source": [
    "?graph.add_node_pose_2d"
   ]
  },
  {
   "cell_type": "code",
   "execution_count": 7,
   "metadata": {},
   "outputs": [
    {
     "name": "stdout",
     "output_type": "stream",
     "text": [
      "Status of graph: 0Nodes and 0Factors.\n"
     ]
    },
    {
     "name": "stdout",
     "output_type": "stream",
     "text": [
      "\u001b[0;31mDocstring:\u001b[0m\n",
      "print(self: mrob.mrob.FGraph, completePrint: bool = False) -> None\n",
      "\n",
      "By default False: does not print all the information on the Fgraph\n",
      "\u001b[0;31mType:\u001b[0m      method\n"
     ]
    }
   ],
   "source": [
    "?graph.print\n",
    "with mrob.ostream_redirect(stdout=True, stderr=True):\n",
    "      graph.print(True)"
   ]
  },
  {
   "cell_type": "markdown",
   "metadata": {},
   "source": [
    "## 3. Add a factor to $x_0$\n",
    "Now that we have a node in the graph, we want to add the first observation. In this case it will be an anchor factor, assuming we are observing that the node is at $[0,0,0]$ with information $\\Sigma_{x_0}= 10^6 I$ "
   ]
  },
  {
   "cell_type": "code",
   "execution_count": null,
   "metadata": {},
   "outputs": [],
   "source": [
    "?graph.add_factor_1pose_2d\n",
    "\n",
    "with mrob.ostream_redirect(stdout=True, stderr=True):\n",
    "      graph.print(True)"
   ]
  },
  {
   "cell_type": "markdown",
   "metadata": {},
   "source": [
    "## 4. Analyze the current error in the graph\n",
    "For this, use the function `chi2()`, which evaluates the problem at the current point and calculates the current value of the residuals.\n",
    "\n",
    "You can also get the current state estimate by using the function `get_estimated_state()`. Print its current value."
   ]
  },
  {
   "cell_type": "code",
   "execution_count": null,
   "metadata": {},
   "outputs": [],
   "source": []
  },
  {
   "cell_type": "markdown",
   "metadata": {},
   "source": [
    "## 5. Solve\n",
    "We will use the Gauss Newton routine (default) with one iteration. For that, call the function `solve()` and recalculate the current estimate and the error."
   ]
  },
  {
   "cell_type": "code",
   "execution_count": null,
   "metadata": {},
   "outputs": [],
   "source": [
    "with mrob.ostream_redirect(stdout=True, stderr=True):\n",
    "    \n",
    "    graph.print(True)"
   ]
  }
 ],
 "metadata": {
  "kernelspec": {
   "display_name": "base",
   "language": "python",
   "name": "python3"
  },
  "language_info": {
   "codemirror_mode": {
    "name": "ipython",
    "version": 3
   },
   "file_extension": ".py",
   "mimetype": "text/x-python",
   "name": "python",
   "nbconvert_exporter": "python",
   "pygments_lexer": "ipython3",
   "version": "3.9.12"
  },
  "vscode": {
   "interpreter": {
    "hash": "5093a82f82928e4e3ccaac4111631c3d9d4c835f3741f22949f946fa1417e3dd"
   }
  }
 },
 "nbformat": 4,
 "nbformat_minor": 4
}
