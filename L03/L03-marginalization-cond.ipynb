{
 "cells": [
  {
   "cell_type": "code",
   "execution_count": 1,
   "metadata": {},
   "outputs": [],
   "source": [
    "import numpy as np\n",
    "import matplotlib.pyplot as plt\n",
    "\n",
    "from matplotlib.patches import Wedge"
   ]
  },
  {
   "cell_type": "markdown",
   "metadata": {},
   "source": [
    "# Seminar L03"
   ]
  },
  {
   "cell_type": "markdown",
   "metadata": {},
   "source": [
    "Suppose that the trajectory of a robot can be described by a vector $p_i=\\begin{bmatrix}{x}_i \\\\ {y}_i \\\\ \\theta_i\\end{bmatrix}$ which is a location of the robot $(x,y)$ and a sclar $\\theta_i$ which is its heading (in radians)."
   ]
  },
  {
   "cell_type": "markdown",
   "metadata": {},
   "source": [
    "<img src=\"heading.png\" width=\"480\" height=\"360\">"
   ]
  },
  {
   "cell_type": "markdown",
   "metadata": {},
   "source": [
    "# 1 Marginalization of orientation\n",
    "Let's assume we have the following Gussian distribution of the 2D pose $p$:\n",
    "\n",
    "$$ p(\\theta, x,y) = \\mathcal{N}(\\begin{bmatrix}x \\\\ y \\\\ \\theta\\end{bmatrix} ; \\begin{bmatrix}1 \\\\ 1 \\\\ 0.3 \\end{bmatrix}, \\begin{bmatrix}0.3 & 0 & 0.1 \\\\ 0 & 0.2 & 0.2 \\\\ 0.1 & 0.2 & 0.5  \\end{bmatrix} )$$\n",
    "\n",
    "\n",
    "The problem is to marginalize the orientation variable $\\theta$:\n",
    "\n",
    "$$p(\\theta) = \\int \\int p(\\theta, x,y) dx dy = \\mathcal{N}(\\theta; \\mu_{\\theta}, \\Sigma_{\\theta})$$"
   ]
  },
  {
   "cell_type": "code",
   "execution_count": 13,
   "metadata": {},
   "outputs": [],
   "source": [
    "cov = np.array([[0.3, 0, 0.1],\\\n",
    "                [0, 0.2, 0.2],\n",
    "                [0.1, 0.2, 0.5]])"
   ]
  },
  {
   "cell_type": "code",
   "execution_count": 2,
   "metadata": {},
   "outputs": [],
   "source": [
    "# TODO. Your answer here\n",
    "mu_th = 0.3\n",
    "sigma_th = 0.5\n",
    "th = np.random.normal(mu_th, sigma_th, 1000)"
   ]
  },
  {
   "cell_type": "markdown",
   "metadata": {},
   "source": [
    "# 2 Conditioning\n",
    "Now, we have access to the position variables. Calculate the new conditioned distribution $p(\\theta | x,y)$ for $x=1.1$ and $y = 1.1$\n",
    "\n",
    "$$p(x_a|x_b)=\\mathcal{N}(x_a; \\mu_a + \\Sigma_{ab}\\Sigma_b^{-1}(x_b - \\mu_b), \\Sigma_a - \\Sigma_{ab}\\Sigma_b^{-1}\\Sigma_{ba})$$\n"
   ]
  },
  {
   "cell_type": "code",
   "execution_count": 18,
   "metadata": {},
   "outputs": [
    {
     "name": "stdout",
     "output_type": "stream",
     "text": [
      "[0.43333333]\n",
      "0.26666666666666666\n"
     ]
    }
   ],
   "source": [
    "S_b_inv = np.linalg.inv(cov[:2, :2])\n",
    "S_ab = cov[2, :2]\n",
    "S_a = cov[2, 2]\n",
    "S_ba = S_ab.T\n",
    "mu = 0.3 + S_ab @ S_b_inv @ np.array([[1.1 - 1], [1.1 - 1]])\n",
    "S = S_a - S_ab @ S_b_inv @ S_ba\n",
    "print(mu)\n",
    "print(S)"
   ]
  },
  {
   "cell_type": "markdown",
   "metadata": {},
   "source": [
    "# 3 Robot trajectory: Joint distribution marginalization\n",
    "While the data from a robot were read some errors occurred. Due to that, the heading values were lost and the positions of the robot are slightly off. Luckily, we've managed to recover errors in positioning, but the exact orientations are still unknown.\n",
    "Some residual data suggest that heading values are distributed normally that is defined by PDF with the following mean and covariance as well as depend on errors in positioning:\n",
    "\n",
    "$$\\begin{bmatrix}p_1 \\\\ p_2 \\\\ p_3 \\\\ p_4 \\\\ p_5\\end{bmatrix} \\sim \\mathcal{N}\\Bigg(\\begin{bmatrix}\\mu_{p_1} \\\\ \\mu_{p_2} \\\\ \\mu_{p_3} \\\\ \\mu_{p_4} \\\\ \\mu_{p_5} \\end{bmatrix}, \\begin{bmatrix}\\Sigma_{p_1} & 0 & 0 & 0 & 0 \\\\ 0 & \\Sigma_{p_2} & 0 & 0 & 0 \\\\ 0 & 0  & \\Sigma_{p_3} & 0 & 0 \\\\ 0 & 0 & 0  & \\Sigma_{p_4} & 0  \\\\ 0 & 0 & 0 & 0 &\\Sigma_{p_5} \\end{bmatrix} \\Bigg)$$\n",
    "\n",
    "Where $p_i = \\begin{bmatrix}dx_i \\\\ dy_i \\\\ \\theta_i\\end{bmatrix}$, $\\mu_{p_i}=\\begin{bmatrix}0 \\\\ 0 \\\\ {\\mu_\\theta}_i\\end{bmatrix}$ and $\\Sigma_{p_i} = \\begin{bmatrix}0.3 & 0 & 0.1 \\\\ 0 & 0.2 & 0.2 \\\\ 0.1 & 0.2 & 0.5  \\end{bmatrix}$"
   ]
  },
  {
   "cell_type": "markdown",
   "metadata": {},
   "source": [
    "Knowing positions of the robot with errors (variable $robot\\_positions$) and mean heading values ${\\mu_\\theta}_i$ for each position (variable $mu\\_theta$) we want to estimate the uncertainty of our guess about heading values by $\\textbf{marginalizing}$ it out of the PDF. Calculate 1-sigma of the PDF (store it in the variable $sigma\\_theta\\_m$ as a column vector of size $n \\times 1$) and plot the 1-sigma sector using the code provided below"
   ]
  },
  {
   "cell_type": "code",
   "execution_count": 19,
   "metadata": {},
   "outputs": [],
   "source": [
    "robot_positions = np.array([[2, 1],\n",
    "                            [4, 3],\n",
    "                            [6, -1],\n",
    "                            [8, 1.5],\n",
    "                            [10, -0.5]])\n",
    "\n",
    "# Mean headings in radians\n",
    "mu_theta = np.array([[np.pi / 4 - np.pi / 16],\n",
    "                     [-np.pi / 4 - 2 * np.pi / 16],\n",
    "                     [np.pi / 4 + 2.7 * np.pi / 16],\n",
    "                     [-np.pi / 2 + 0.4 * np.pi / 16],\n",
    "                     [0]])"
   ]
  },
  {
   "cell_type": "code",
   "execution_count": 29,
   "metadata": {},
   "outputs": [],
   "source": [
    "# Calculate the marginal PDF of theta and get 1-sigma of the bearings guess for each position\n",
    "\n",
    "# TODO. Change that line\n",
    "sigma_theta_m = np.array([[0.5], [0.5], [0.5], [0.5], [0.5]]) ** 0.5"
   ]
  },
  {
   "cell_type": "code",
   "execution_count": 30,
   "metadata": {},
   "outputs": [],
   "source": [
    "def plot_headings(_ax, positions, _mu_theta, sigma1, color):\n",
    "    _mu_theta = np.rad2deg(_mu_theta)\n",
    "    sigma1 = np.rad2deg(sigma1)\n",
    "    \n",
    "    for pos, mu, sigma in zip(positions, _mu_theta, sigma1):\n",
    "        sec_start = mu - sigma\n",
    "        sec_end = mu + sigma\n",
    "        \n",
    "        mu_rad = np.deg2rad(mu)\n",
    "        heading = np.concatenate([np.cos(mu_rad), np.sin(mu_rad)], axis=0)[None] * 0.5\n",
    "        heading = np.concatenate([pos[None], pos[None] + heading], axis=0)\n",
    "        \n",
    "        _ax.plot(heading[:, 0], heading[:, 1], color='black', alpha=0.8)\n",
    "        _ax.add_artist(Wedge(pos, 0.5, sec_start[0], sec_end[0], color=color, alpha=0.6))\n"
   ]
  },
  {
   "cell_type": "code",
   "execution_count": 31,
   "metadata": {},
   "outputs": [
    {
     "data": {
      "image/png": "[encoded data removed]",
      "text/plain": [
       "<Figure size 1400x900 with 1 Axes>"
      ]
     },
     "metadata": {},
     "output_type": "display_data"
    }
   ],
   "source": [
    "fig = plt.figure(figsize=(14, 9))\n",
    "\n",
    "ax = fig.add_subplot(1, 1, 1, aspect='equal')\n",
    "\n",
    "ax.set_ylim(-2, 3.5)\n",
    "ax.set_xlim(1.5, 11)\n",
    "ax.set_xlabel('x', fontsize=18)\n",
    "ax.set_ylabel('y', fontsize=18)\n",
    "\n",
    "\n",
    "ax.plot(robot_positions[:, 0], robot_positions[:, 1], \n",
    "        color=\"indigo\",\n",
    "        marker='D', markersize=10, markerfacecolor='orange', markeredgewidth=1.0, markeredgecolor=(0, 0, 0, 1))\n",
    "plot_headings(ax, robot_positions, mu_theta, sigma_theta_m, 'red')\n",
    "\n",
    "plt.show()"
   ]
  },
  {
   "cell_type": "markdown",
   "metadata": {},
   "source": [
    "# 4 Joint distribution conditioning\n",
    "Now, we want to correct robot's positions using recovered data (variable $positions\\_err$) as well as our guess on the headigns 1-sigma estimate by utilizing the fact that we know $dx_i$ and $dy_i$. $\\textbf{Condition}$ $\\theta_i$ of PDF $\\textbf{on}$ $dx_i$ and $dy_i$ and use their values to recalculate mean and covariance of $p(\\theta_i|x_i, y_i)$. Plot the updated robot trajectory and 1-sigma sector next to the old one in is same manner as in 2.1."
   ]
  },
  {
   "cell_type": "code",
   "execution_count": null,
   "metadata": {},
   "outputs": [],
   "source": [
    "dx = np.array([[-0.1931705 ],\n",
    "               [ 0.1224564 ],\n",
    "               [-0.11136686],\n",
    "               [ 0.28472354],\n",
    "               [-0.29425286]])\n",
    "\n",
    "dy = np.array([[ 0.16510238],\n",
    "               [-0.00937599],\n",
    "               [-0.3699997 ],\n",
    "               [ 0.3970382 ],\n",
    "               [ 0.08117404]])\n"
   ]
  },
  {
   "cell_type": "code",
   "execution_count": null,
   "metadata": {},
   "outputs": [],
   "source": [
    "# TODO. Change theses lines\n",
    "\n",
    "new_robot_positions = \n",
    "new_mu_theta = \n",
    "sigma_theta_c = "
   ]
  },
  {
   "cell_type": "code",
   "execution_count": null,
   "metadata": {},
   "outputs": [],
   "source": [
    "fig2 = plt.figure(figsize=(14, 9))\n",
    "\n",
    "ax2 = fig2.add_subplot(1, 1, 1, aspect='equal')\n",
    "\n",
    "ax2.set_ylim(-2, 3.5)\n",
    "ax2.set_xlim(1.5, 11)\n",
    "ax2.set_xlabel('x', fontsize=18)\n",
    "ax2.set_ylabel('y', fontsize=18)\n",
    "\n",
    "\n",
    "ax2.plot(robot_positions[:, 0], robot_positions[:, 1], \n",
    "         color=\"indigo\",\n",
    "         marker='D', markersize=10, markerfacecolor='orange', markeredgewidth=1.0, markeredgecolor=(0, 0, 0, 1))\n",
    "plot_headings(ax2, robot_positions, mu_theta, sigma_theta_m, 'red')\n",
    "        \n",
    "ax2.plot(new_robot_positions[:, 0], new_robot_positions[:, 1], \n",
    "         color=\"darkgreen\",\n",
    "         marker='X', markersize=10, markerfacecolor='green', markeredgewidth=1.0, markeredgecolor=(0, 0, 0, 1))\n",
    "plot_headings(ax2, new_robot_positions, new_mu_theta, sigma_theta_c, 'purple')\n",
    "\n",
    "plt.show()"
   ]
  },
  {
   "cell_type": "markdown",
   "metadata": {},
   "source": [
    "<b>Question:</b> If cross-correlation terms are zero then will the conditioning have any effect on the variable for which conditioning is performed?"
   ]
  },
  {
   "cell_type": "code",
   "execution_count": null,
   "metadata": {},
   "outputs": [],
   "source": []
  }
 ],
 "metadata": {
  "kernelspec": {
   "display_name": "Python 3",
   "language": "python",
   "name": "python3"
  },
  "language_info": {
   "codemirror_mode": {
    "name": "ipython",
    "version": 3
   },
   "file_extension": ".py",
   "mimetype": "text/x-python",
   "name": "python",
   "nbconvert_exporter": "python",
   "pygments_lexer": "ipython3",
   "version": "3.-1.-1"
  },
  "vscode": {
   "interpreter": {
    "hash": "aee8b7b246df8f9039afb4144a1f6fd8d2ca17a180786b69acc140d282b71a49"
   }
  }
 },
 "nbformat": 4,
 "nbformat_minor": 4
}
