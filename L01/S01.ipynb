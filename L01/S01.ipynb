{
 "cells": [
  {
   "attachments": {},
   "cell_type": "markdown",
   "metadata": {},
   "source": [
    "# I. Sample mean and sample covariance\n",
    "This task is to \n",
    "1. generate random one-dimensional normally distributed variables;\n",
    "2. draw distribution of generated samples;\n",
    "3. compute sample mean and sample covariance of generated data."
   ]
  },
  {
   "cell_type": "code",
   "execution_count": 1,
   "metadata": {},
   "outputs": [],
   "source": [
    "# Import libraries\n",
    "import numpy as np\n",
    "import matplotlib.pyplot as plt\n",
    "from scipy.stats import norm\n"
   ]
  },
  {
   "attachments": {},
   "cell_type": "markdown",
   "metadata": {},
   "source": [
    "## 1. Generate\n",
    "Generate a set of 10000 random one-dimensional normally distributed variables.   \n",
    "\n",
    "You may need to employ `np.random.randn(...)` .  \n",
    "You can use Sift+Tab in the end of typing function or `?` magic command before the function to check the usage pattern of a function."
   ]
  },
  {
   "cell_type": "code",
   "execution_count": null,
   "metadata": {},
   "outputs": [],
   "source": [
    "# Your code below"
   ]
  },
  {
   "attachments": {},
   "cell_type": "markdown",
   "metadata": {},
   "source": [
    "## 2. Observe\n",
    "Draw distribution of generated samples by `plt.hist(...)` .  \n",
    "40 - 100 bins is an optimal choice."
   ]
  },
  {
   "cell_type": "code",
   "execution_count": null,
   "metadata": {},
   "outputs": [],
   "source": [
    "# Your code below"
   ]
  },
  {
   "attachments": {},
   "cell_type": "markdown",
   "metadata": {},
   "source": [
    "## 3. Compute statistics\n",
    "Compute the sample mean and the sample covariance of the generated data."
   ]
  },
  {
   "cell_type": "code",
   "execution_count": null,
   "metadata": {},
   "outputs": [],
   "source": [
    "def sample_mean(dat):\n",
    "    # Your code below\n",
    "\n",
    "    return s_mean\n",
    "\n",
    "def smean_iscorrect(dat):\n",
    "    return np.isclose(sample_mean(dat), dat.mean(), rtol=1e-14)"
   ]
  },
  {
   "attachments": {},
   "cell_type": "markdown",
   "metadata": {},
   "source": [
    "Check correctness of your `sample_mean(...)`"
   ]
  },
  {
   "cell_type": "code",
   "execution_count": null,
   "metadata": {},
   "outputs": [],
   "source": [
    "sample_mean(dat_1d)"
   ]
  },
  {
   "cell_type": "code",
   "execution_count": null,
   "metadata": {},
   "outputs": [],
   "source": [
    "smean_iscorrect(dat_1d)"
   ]
  },
  {
   "cell_type": "code",
   "execution_count": null,
   "metadata": {},
   "outputs": [],
   "source": [
    "def sample_covariance(dat):\n",
    "    # Your code below\n",
    "    \n",
    "    return s_cov\n",
    "\n",
    "def scov_iscorrect(dat):\n",
    "    return np.isclose(sample_covariance(dat), np.cov(dat, bias=False), rtol=1e-14)"
   ]
  },
  {
   "cell_type": "code",
   "execution_count": null,
   "metadata": {},
   "outputs": [],
   "source": [
    "sample_covariance(dat_1d)"
   ]
  },
  {
   "cell_type": "code",
   "execution_count": null,
   "metadata": {},
   "outputs": [],
   "source": [
    "scov_iscorrect(dat_1d)"
   ]
  },
  {
   "attachments": {},
   "cell_type": "markdown",
   "metadata": {},
   "source": [
    "# II. Probability mass \n",
    "_Imagine that your shouting robot Dartsy1D tryes to hit the target - the centre of a one-dimensional interval.  \n",
    "Find the probability to hit segment defined by the iso-contour value 1 ($\\pm \\sigma$). Dartsy1D's shooting accuracy is normally distributed.  \n",
    "Find the same meausre for $\\pm 2 \\sigma$ and $\\pm 3 \\sigma$._ \n",
    "\n",
    "![](Dartsy1D.png)\n",
    "\n",
    "This task is to theoretically find the portion of data within 1/2/3-Sigma interval (or iso-contour).  \n",
    "For simplicity consider standard one-dimensional Normallly distributed accuracy for this task.  \n",
    "You may need to recall cumulative density function and use `norm.cdf`"
   ]
  },
  {
   "cell_type": "code",
   "execution_count": null,
   "metadata": {},
   "outputs": [],
   "source": [
    "def portion_standard(n_sigmas):\n",
    "    '''\n",
    "    Probability to meet a sample value within 1-, 2-, 3-Sigma interval of std. normal distribution\n",
    "    \n",
    "    Parameters\n",
    "    ----------\n",
    "    n_sigmas : number of Sigma intervals from the mean\n",
    "    \n",
    "    Returns\n",
    "    -------\n",
    "    port : probability\n",
    "    '''\n",
    "    assert n_sigmas == 1 or n_sigmas == 2 or n_sigmas == 3, 'Choose 1, 2 or 3'\n",
    "    \n",
    "    # Your code below\n",
    "    port = \n",
    "    \n",
    "    return port"
   ]
  },
  {
   "cell_type": "code",
   "execution_count": null,
   "metadata": {},
   "outputs": [],
   "source": [
    "portion_standard(1)"
   ]
  }
 ],
 "metadata": {
  "kernelspec": {
   "display_name": "aruco",
   "language": "python",
   "name": "python3"
  },
  "language_info": {
   "codemirror_mode": {
    "name": "ipython",
    "version": 3
   },
   "file_extension": ".py",
   "mimetype": "text/x-python",
   "name": "python",
   "nbconvert_exporter": "python",
   "pygments_lexer": "ipython3",
   "version": "3.10.6 (main, Oct 24 2022, 16:07:47) [GCC 11.2.0]"
  },
  "orig_nbformat": 4,
  "vscode": {
   "interpreter": {
    "hash": "815f23c7e134538287fa75783806fca39f21276c52058111af811b0613b54573"
   }
  }
 },
 "nbformat": 4,
 "nbformat_minor": 2
}
